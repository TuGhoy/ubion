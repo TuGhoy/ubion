{
  "nbformat": 4,
  "nbformat_minor": 0,
  "metadata": {
    "colab": {
      "provenance": []
    },
    "kernelspec": {
      "name": "python3",
      "display_name": "Python 3"
    },
    "language_info": {
      "name": "python"
    }
  },
  "cells": [
    {
      "cell_type": "code",
      "source": [
        "power = 5                    #power값 5에서 시작\n",
        "\n",
        "while power > 0:             #power이 0이 되지 않을때까지 반복. 0이되면 while문 실행x\n",
        "    print(\"You are still playing because your power is %d.\" % power)\n",
        "    power = power - 1        #power=5-1 -> power=4-1 -> power=3-1 -> power=2-1 -> power=1-1\n",
        "\n",
        "else:                        #power가 0이되면 아래 문구 프린트\n",
        "    print(\"\\nOh no, your power dropped to 0! Game Over.\")"
      ],
      "metadata": {
        "colab": {
          "base_uri": "https://localhost:8080/"
        },
        "id": "dDErFGGXvp95",
        "outputId": "11678474-432e-4efa-cca7-975753b9d259"
      },
      "execution_count": null,
      "outputs": [
        {
          "output_type": "stream",
          "name": "stdout",
          "text": [
            "You are still playing because your power is 5.\n",
            "You are still playing because your power is 4.\n",
            "You are still playing because your power is 3.\n",
            "You are still playing because your power is 2.\n",
            "You are still playing because your power is 1.\n",
            "\n",
            "Oh no, your power dropped to 0! Game Over.\n"
          ]
        }
      ]
    },
    {
      "cell_type": "code",
      "source": [
        "names = ['guido', 'tim', 'jesse']\n",
        "\n",
        "new_name = input(\"Please tell me someone I should know: \")   #input함수- 사용자가 단어 직접입력\n",
        "\n",
        "names.append(new_name)      #append함수- 사용자가 입력한 단어(new_name) names 리스트에 삽입\n",
        "\n",
        "print(names)"
      ],
      "metadata": {
        "colab": {
          "base_uri": "https://localhost:8080/"
        },
        "id": "eyfe0pkBx3X_",
        "outputId": "74a60576-aaff-40a5-e943-8c0a5f34b57b"
      },
      "execution_count": null,
      "outputs": [
        {
          "output_type": "stream",
          "name": "stdout",
          "text": [
            "Please tell me someone I should know: Sohyun\n",
            "['guido', 'tim', 'jesse', 'Sohyun']\n"
          ]
        }
      ]
    },
    {
      "cell_type": "code",
      "source": [
        "names = []\n",
        "\n",
        "new_name = ''\n",
        "\n",
        "while new_name != 'quit':    \n",
        "    new_name = input(\"Please tell me someone I should know or enter 'quit': \")  #quit입력하면 new_name = 'quit'이기 때문에 다음 while문 종료\n",
        "    names.append(new_name)\n",
        "\n",
        "print(names)"
      ],
      "metadata": {
        "colab": {
          "base_uri": "https://localhost:8080/"
        },
        "id": "2aKHKq9iyEJX",
        "outputId": "4a8437e7-8067-4855-e6aa-04dcf1d16e1b"
      },
      "execution_count": null,
      "outputs": [
        {
          "output_type": "stream",
          "name": "stdout",
          "text": [
            "Please tell me someone I should know or enter 'quit': sohyun\n",
            "Please tell me someone I should know or enter 'quit': quit\n",
            "['sohyun', 'quit']\n"
          ]
        }
      ]
    },
    {
      "cell_type": "code",
      "source": [
        "print(\"\\nWelcome to the nature center. What would you like to do?\")\n",
        "\n",
        "choice = ''\n",
        "\n",
        "while choice != 'q':\n",
        "    print(\"\\n[1] Enter 1 to take a bicycle ride.\")\n",
        "    print(\"[2] Enter 2 to go for a run.\")\n",
        "    print(\"[3] Enter 3 to climb a mountain.\")\n",
        "    print(\"[q] Enter q to quit.\")\n",
        "    \n",
        "    # Ask for the user's choice.\n",
        "    choice = input(\"\\nWhat would you like to do? \")\n",
        "    \n",
        "    # Respond to the user's choice.\n",
        "    if choice == '1':\n",
        "        print(\"\\nHere's a bicycle. Have fun!\\n\")\n",
        "    elif choice == '2':\n",
        "        print(\"\\nHere are some running shoes. Run fast!\\n\")\n",
        "    elif choice == '3':\n",
        "        print(\"\\nHere's a map. Can you leave a trip plan for us?\\n\")\n",
        "    elif choice == 'q':\n",
        "        print(\"\\nThanks for playing. See you later.\\n\")\n",
        "    else:\n",
        "        print(\"\\nI don't understand that choice, please try again.\\n\")\n",
        "        \n",
        "# Print a message that we are all finished.\n",
        "print(\"Thanks again, bye now.\")"
      ],
      "metadata": {
        "colab": {
          "base_uri": "https://localhost:8080/"
        },
        "id": "n13HAQrDysHq",
        "outputId": "476bf1a5-109e-4c18-e958-e8e1c7ff841a"
      },
      "execution_count": null,
      "outputs": [
        {
          "output_type": "stream",
          "name": "stdout",
          "text": [
            "\n",
            "Welcome to the nature center. What would you like to do?\n",
            "\n",
            "[1] Enter 1 to take a bicycle ride.\n",
            "[2] Enter 2 to go for a run.\n",
            "[3] Enter 3 to climb a mountain.\n",
            "[q] Enter q to quit.\n",
            "\n",
            "What would you like to do? 1\n",
            "\n",
            "Here's a bicycle. Have fun!\n",
            "\n",
            "\n",
            "[1] Enter 1 to take a bicycle ride.\n",
            "[2] Enter 2 to go for a run.\n",
            "[3] Enter 3 to climb a mountain.\n",
            "[q] Enter q to quit.\n",
            "\n",
            "What would you like to do? 3\n",
            "\n",
            "Here's a map. Can you leave a trip plan for us?\n",
            "\n",
            "\n",
            "[1] Enter 1 to take a bicycle ride.\n",
            "[2] Enter 2 to go for a run.\n",
            "[3] Enter 3 to climb a mountain.\n",
            "[q] Enter q to quit.\n",
            "\n",
            "What would you like to do? q\n",
            "\n",
            "Thanks for playing. See you later.\n",
            "\n",
            "Thanks again, bye now.\n"
          ]
        }
      ]
    },
    {
      "cell_type": "code",
      "source": [
        "# Define the actions for each choice we want to offer.\n",
        "def ride_bicycle():\n",
        "    print(\"\\nHere's a bicycle. Have fun!\\n\")\n",
        "    \n",
        "def go_running():\n",
        "    print(\"\\nHere are some running shoes. Run fast!\\n\")\n",
        "    \n",
        "def climb_mountain():\n",
        "    print(\"\\nHere's a map. Can you leave a trip plan for us?\\n\")\n",
        "\n",
        "# Give the user some context.\n",
        "print(\"\\nWelcome to the nature center. What would you like to do?\")\n",
        "\n",
        "# Set an initial value for choice other than the value for 'quit'.\n",
        "choice = ''\n",
        "\n",
        "# Start a loop that runs until the user enters the value for 'quit'.\n",
        "while choice != 'q':\n",
        "    # Give all the choices in a series of print statements.\n",
        "    print(\"\\n[1] Enter 1 to take a bicycle ride.\")\n",
        "    print(\"[2] Enter 2 to go for a run.\")\n",
        "    print(\"[3] Enter 3 to climb a mountain.\")\n",
        "    print(\"[q] Enter q to quit.\")\n",
        "    \n",
        "    # Ask for the user's choice.\n",
        "    choice = input(\"\\nWhat would you like to do? \")\n",
        "    \n",
        "    # Respond to the user's choice.\n",
        "    if choice == '1':\n",
        "        ride_bicycle()\n",
        "    elif choice == '2':\n",
        "        go_running()\n",
        "    elif choice == '3':\n",
        "        climb_mountain()\n",
        "    elif choice == 'q':\n",
        "        print(\"\\nThanks for playing. See you later.\\n\")\n",
        "    else:\n",
        "        print(\"\\nI don't understand that choice, please try again.\\n\")\n",
        "        \n",
        "# Print a message that we are all finished.\n",
        "print(\"Thanks again, bye now.\")"
      ],
      "metadata": {
        "id": "p_Oz4vyB0BMm"
      },
      "execution_count": null,
      "outputs": []
    },
    {
      "cell_type": "code",
      "source": [],
      "metadata": {
        "id": "35EJpTLHPIgs"
      },
      "execution_count": null,
      "outputs": []
    },
    {
      "cell_type": "code",
      "source": [
        "# Создадим два списка\n",
        "# let's creat two lists\n",
        "unconfirmed_users = ['ada', 'billy', 'clarence', 'daria']\n",
        "confirmed_users = []\n",
        "\n",
        "# Пройдем по списку и проверим каждого пользователя\n",
        "# let\n",
        "while len(unconfirmed_users) > 0:\n",
        "    \n",
        "    # Достанем последнего пользователя\n",
        "    current_user = unconfirmed_users.pop()\n",
        "    print(\"Confirming user %s...confirmed!\" % current_user.title())\n",
        "    \n",
        "    # добавим его в лист подтвержденных\n",
        "    confirmed_users.append(current_user)\n",
        "    \n",
        "# Пруфы обработок\n",
        "print(\"\\nUnconfirmed users:\")\n",
        "for user in unconfirmed_users:\n",
        "    print('- ' + user.title())\n",
        "    \n",
        "print(\"\\nConfirmed users:\")\n",
        "for user in confirmed_users:\n",
        "    print('- ' + user.title())"
      ],
      "metadata": {
        "id": "GbUU1kdb0IU_"
      },
      "execution_count": null,
      "outputs": []
    },
    {
      "cell_type": "code",
      "source": [
        "# Start with a list of unconfirmed users, and an empty list of confirmed users.\n",
        "unconfirmed_users = ['ada', 'billy', 'clarence', 'daria']\n",
        "confirmed_users = []\n",
        "\n",
        "# Work through the list, and confirm each user.\n",
        "while len(unconfirmed_users) > 0:\n",
        "    \n",
        "    # Get the latest unconfirmed user, and process them.\n",
        "    current_user = unconfirmed_users.pop(0)\n",
        "    print(\"Confirming user %s...confirmed!\" % current_user.title())\n",
        "    \n",
        "    # Move the current user to the list of confirmed users.\n",
        "    confirmed_users.append(current_user)\n",
        "    \n",
        "# Prove that we have finished confirming all users.\n",
        "print(\"\\nUnconfirmed users:\")\n",
        "for user in unconfirmed_users:\n",
        "    print('- ' + user.title())\n",
        "    \n",
        "print(\"\\nConfirmed users:\")\n",
        "for user in confirmed_users:\n",
        "    print('- ' + user.title())"
      ],
      "metadata": {
        "id": "hxpXsQU50LVm"
      },
      "execution_count": null,
      "outputs": []
    },
    {
      "cell_type": "code",
      "source": [
        "x, y = 4, 23\n",
        "x = y // 2 # Для значений y > 1\n",
        "while x > 1:\n",
        "    if y % x == 0: # y делится на x\n",
        "        print(y, 'has factor', x)\n",
        "        break # Перешагнуть блок else\n",
        "    else: # y не делится на x\n",
        "        x -= 1\n",
        "else: # Нормальное завершение цикла\n",
        "    print(y, 'is prime')"
      ],
      "metadata": {
        "id": "-0gR7N6C0PyA"
      },
      "execution_count": null,
      "outputs": []
    }
  ]
}